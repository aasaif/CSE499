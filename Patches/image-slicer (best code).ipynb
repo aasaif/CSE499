{
 "cells": [
  {
   "cell_type": "code",
   "execution_count": null,
   "metadata": {},
   "outputs": [],
   "source": [
    "import cv2\n",
    "import numpy as np\n",
    "from matplotlib import pyplot as plt\n",
    "from scipy.misc import imsave\n",
    "from scipy import ndimage\n",
    "from scipy import misc\n",
    "import scipy.misc\n",
    "import scipy\n",
    "import image_slicer\n",
    "from image_slicer import join\n",
    "from PIL import Image\n",
    "import imageio\n",
    "\n",
    "\n",
    "img = 'C:/Users/hp/Desktop/CSE 499_B/Slice/21_manual1.gif'\n",
    "num_tiles = 16\n",
    "tiles = image_slicer.slice(img, num_tiles)\n",
    "\n",
    "for tile in tiles:\n",
    "    img = imageio.imread(tile.filename)\n",
    "    hist,bins = np.histogram(img.flatten(),256,[0,256])\n",
    "    cdf = hist.cumsum()\n",
    "    cdf_normalized = cdf *hist.max()/ cdf.max()  \n",
    "    #plt.plot(cdf_normalized, color = 'g')\n",
    "    #plt.hist(img.flatten(),256,[0,256], color = 'r')\n",
    "    #plt.xlim([0,256])\n",
    "    #plt.legend(('cdf','histogram'), loc = 'upper left')\n",
    "    cdf_m = np.ma.masked_equal(cdf,0)\n",
    "    cdf_o = (cdf_m - cdf_m.min())*255/(cdf_m.max()-cdf_m.min())\n",
    "    cdf = np.ma.filled(cdf_o,0).astype('uint32')\n",
    "    img3 = cdf[img]\n",
    "    #cv2.imwrite(tile.filename,img3)\n",
    "    tile.image = Image.open(tile.filename)\n",
    "\n",
    "#image = join(tiles)\n",
    "#image.save(\"C:/Users/hp/Desktop/CSE 499_B/Slice/marge/ marge-60_manual1.png\")\n",
    "#cv2.imwrite(\"C:/Users/hp/Desktop/CSE 499_B/Slice/New folder/\",image.save)\n",
    "#imageio.imwrite('filename.jpg')\n",
    "\n",
    "#cv2.imwrite('marge', img)"
   ]
  },
  {
   "cell_type": "code",
   "execution_count": null,
   "metadata": {},
   "outputs": [],
   "source": []
  },
  {
   "cell_type": "code",
   "execution_count": null,
   "metadata": {},
   "outputs": [],
   "source": []
  },
  {
   "cell_type": "code",
   "execution_count": null,
   "metadata": {},
   "outputs": [],
   "source": []
  },
  {
   "cell_type": "code",
   "execution_count": null,
   "metadata": {},
   "outputs": [],
   "source": [
    "##another slicer code"
   ]
  },
  {
   "cell_type": "code",
   "execution_count": null,
   "metadata": {},
   "outputs": [],
   "source": [
    "import cv2    \n",
    "import os  \n",
    "import glob  \n",
    "import numpy as np      \n",
    "from matplotlib import pyplot as plt      \n",
    "from scipy.misc import imsave          \n",
    "from scipy import ndimage  \n",
    "from scipy import misc  \n",
    "import scipy.misc  \n",
    "import scipy  \n",
    "import image_slicer  \n",
    "from image_slicer import join  \n",
    "from PIL import Image  \n",
    "import imageio  \n",
    "from PIL import Image "
   ]
  },
  {
   "cell_type": "code",
   "execution_count": null,
   "metadata": {},
   "outputs": [],
   "source": [
    "PATH = 'C:/Users/hp/Desktop/CSE 499_B/Slice/STARE'  \n",
    "os.listdir(PATH)  "
   ]
  },
  {
   "cell_type": "code",
   "execution_count": null,
   "metadata": {},
   "outputs": [],
   "source": [
    "images=glob.glob(os.path.join(PATH,'21_manual1','*.gif'))"
   ]
  },
  {
   "cell_type": "code",
   "execution_count": null,
   "metadata": {},
   "outputs": [],
   "source": [
    "cropheight=300  \n",
    "cropwidth = 300  \n",
    "k=-1  \n",
    "for file in images:  \n",
    "    k+=1  \n",
    "    im = Image.open(images[k])  \n",
    "    width, height = im.size  \n",
    "    for i in range(0, width, cropwidth):  \n",
    "     for j in range(0, height, cropheight):   \n",
    "       box = (i, j,i+cropwidth, j+cropheight)  \n",
    "       print('%s %s' % (images[k], box))  \n",
    "       im.crop(box).save('%s.width%03d.height%03d.tif' % (images[k], i, j)) \n",
    "       # = im.crop(box) \n",
    "       #print(type(a))\n",
    "       #break\n",
    "      # im.crop(box).save('C:/Users/hp/Desktop/CSE 499_B/Slice/New folder/%s.width%03d.height%03d.tif' % (images[k].replace(\"\\\",\"/\").split(\"/\")[-1], i, j))\n",
    "       #cv2.imwrite(\"C:/Users/hp/Desktop/CSE 499_B/Slice/New folder\" +file, im) \n",
    "    #image = join(images)\n",
    "    #image.save(\"C:/Users/hp/Desktop/CSE 499_B/Slice/New folder/ marge-images22.png\")"
   ]
  },
  {
   "cell_type": "code",
   "execution_count": null,
   "metadata": {},
   "outputs": [],
   "source": []
  },
  {
   "cell_type": "code",
   "execution_count": null,
   "metadata": {},
   "outputs": [],
   "source": []
  },
  {
   "cell_type": "code",
   "execution_count": null,
   "metadata": {},
   "outputs": [],
   "source": []
  },
  {
   "cell_type": "code",
   "execution_count": null,
   "metadata": {},
   "outputs": [],
   "source": [
    "Best solution"
   ]
  },
  {
   "cell_type": "code",
   "execution_count": 2,
   "metadata": {},
   "outputs": [],
   "source": [
    "import os\n",
    "import glob\n",
    "from PIL import Image\n",
    "Image.MAX_IMAGE_PIXELS = None # to avoid image size warning\n",
    "\n",
    "imgdir = \"C:/Users/hp/Desktop/CSE 499_B/Slice/STARE\"\n",
    "# if you want file of a specific extension (.png):\n",
    "filelist = [f for f in glob.glob(imgdir + \"**/*.jpg\", recursive=True)]\n",
    "savedir = \"C:/Users/hp/Desktop/CSE 499_B/Slice/STARE/New folder\"\n",
    "\n",
    "start_pos = start_x, start_y = (0, 0)\n",
    "cropped_image_size = h, w = (171, 171)\n",
    "\n",
    "for file in filelist:\n",
    "    img = Image.open(file)\n",
    "    width, height = img.size\n",
    "\n",
    "    frame_num = 1\n",
    "    for col_i in range(0, width, w): #width,w\n",
    "        for row_i in range(0, height, h):\n",
    "            crop = img.crop((row_i, col_i, row_i + h, col_i + w))\n",
    "            name = os.path.basename(file)\n",
    "            name = os.path.splitext(name)[0]\n",
    "            save_to= os.path.join(savedir, name+\"_{:03}.png\")\n",
    "            crop.save(save_to.format(frame_num))\n",
    "            frame_num += 1"
   ]
  },
  {
   "cell_type": "code",
   "execution_count": null,
   "metadata": {},
   "outputs": [],
   "source": []
  },
  {
   "cell_type": "code",
   "execution_count": null,
   "metadata": {},
   "outputs": [],
   "source": []
  }
 ],
 "metadata": {
  "kernelspec": {
   "display_name": "Python 3",
   "language": "python",
   "name": "python3"
  },
  "language_info": {
   "codemirror_mode": {
    "name": "ipython",
    "version": 3
   },
   "file_extension": ".py",
   "mimetype": "text/x-python",
   "name": "python",
   "nbconvert_exporter": "python",
   "pygments_lexer": "ipython3",
   "version": "3.7.1"
  }
 },
 "nbformat": 4,
 "nbformat_minor": 4
}
