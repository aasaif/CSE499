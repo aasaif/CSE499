{
 "cells": [
  {
   "cell_type": "code",
   "execution_count": 1,
   "metadata": {},
   "outputs": [],
   "source": [
    "from PIL import Image, ImageDraw, ImageFilter"
   ]
  },
  {
   "cell_type": "code",
   "execution_count": 2,
   "metadata": {},
   "outputs": [],
   "source": [
    "im1 = Image.open('21_training_mask.jpg')\n",
    "im2 = Image.open('21_manual1.gif')"
   ]
  },
  {
   "cell_type": "code",
   "execution_count": null,
   "metadata": {},
   "outputs": [],
   "source": [
    "im1.paste(im2)\n",
    "im1.save('rocket_pillow_paste.jpg', quality=95)"
   ]
  },
  {
   "cell_type": "code",
   "execution_count": null,
   "metadata": {},
   "outputs": [],
   "source": [
    "back_im = im1.copy()\n",
    "back_im.paste(im2)\n",
    "back_im.save('rocket_pillow_paste.jpg', quality=95)"
   ]
  },
  {
   "cell_type": "code",
   "execution_count": null,
   "metadata": {},
   "outputs": [],
   "source": []
  },
  {
   "cell_type": "code",
   "execution_count": null,
   "metadata": {},
   "outputs": [],
   "source": []
  },
  {
   "cell_type": "code",
   "execution_count": 3,
   "metadata": {},
   "outputs": [],
   "source": [
    "mask_im = Image.new(\"L\", im2.size, 0)\n",
    "draw = ImageDraw.Draw(mask_im)\n",
    "draw.ellipse((140, 50, 260, 170), fill=255)\n",
    "mask_im.save('mask_circle.jpg', quality=95)"
   ]
  },
  {
   "cell_type": "code",
   "execution_count": 4,
   "metadata": {},
   "outputs": [],
   "source": [
    "back_im = im1.copy()\n",
    "back_im.paste(im2, (50,200 ), mask_im)\n",
    "back_im.save('rocket_pillow_paste_mask_circle.jpg', quality=95)"
   ]
  },
  {
   "cell_type": "code",
   "execution_count": null,
   "metadata": {},
   "outputs": [],
   "source": [
    "back_im = im1.copy()\n",
    "back_im.paste(im2, (10, 20))\n",
    "back_im.save('rocket_pillow_paste_out.jpg', quality=95)"
   ]
  },
  {
   "cell_type": "code",
   "execution_count": 15,
   "metadata": {},
   "outputs": [],
   "source": [
    "mask_im = Image.open('21_manual1.gif').resize(im2.size).convert('L')\n",
    "\n",
    "back_im = im1.copy()\n",
    "back_im.paste(im2, (0, 0), mask_im)\n",
    "back_im.save('rocket_pillow_paste_mask_horse.jpg', quality=95)"
   ]
  },
  {
   "cell_type": "code",
   "execution_count": null,
   "metadata": {},
   "outputs": [],
   "source": []
  }
 ],
 "metadata": {
  "kernelspec": {
   "display_name": "Python 3",
   "language": "python",
   "name": "python3"
  },
  "language_info": {
   "codemirror_mode": {
    "name": "ipython",
    "version": 3
   },
   "file_extension": ".py",
   "mimetype": "text/x-python",
   "name": "python",
   "nbconvert_exporter": "python",
   "pygments_lexer": "ipython3",
   "version": "3.7.1"
  }
 },
 "nbformat": 4,
 "nbformat_minor": 4
}
